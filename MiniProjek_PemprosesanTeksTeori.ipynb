{
  "nbformat": 4,
  "nbformat_minor": 0,
  "metadata": {
    "colab": {
      "provenance": []
    },
    "kernelspec": {
      "name": "python3",
      "display_name": "Python 3"
    },
    "language_info": {
      "name": "python"
    }
  },
  "cells": [
    {
      "cell_type": "markdown",
      "source": [
        "## **Tema: Analisis Sentimen Ulasan Pengguna terhadap Aplikasi Pembelajaran Bahasa di Google Play Store**"
      ],
      "metadata": {
        "id": "88SLUAoNO0AI"
      }
    },
    {
      "cell_type": "markdown",
      "source": [
        "**Scraping Data**"
      ],
      "metadata": {
        "id": "A0qnHpod1Sx_"
      }
    },
    {
      "cell_type": "code",
      "execution_count": 1,
      "metadata": {
        "colab": {
          "base_uri": "https://localhost:8080/"
        },
        "id": "REtr71PHn3Tc",
        "outputId": "c7a03111-8c2b-4011-9b2c-67bd5794c641"
      },
      "outputs": [
        {
          "output_type": "stream",
          "name": "stdout",
          "text": [
            "Collecting google-play-scraper\n",
            "  Downloading google_play_scraper-1.2.7-py3-none-any.whl.metadata (50 kB)\n",
            "\u001b[?25l     \u001b[90m━━━━━━━━━━━━━━━━━━━━━━━━━━━━━━━━━━━━━━━━\u001b[0m \u001b[32m0.0/50.2 kB\u001b[0m \u001b[31m?\u001b[0m eta \u001b[36m-:--:--\u001b[0m\r\u001b[2K     \u001b[90m━━━━━━━━━━━━━━━━━━━━━━━━━━━━━━━━━━━━━━━━\u001b[0m \u001b[32m50.2/50.2 kB\u001b[0m \u001b[31m2.2 MB/s\u001b[0m eta \u001b[36m0:00:00\u001b[0m\n",
            "\u001b[?25hDownloading google_play_scraper-1.2.7-py3-none-any.whl (28 kB)\n",
            "Installing collected packages: google-play-scraper\n",
            "Successfully installed google-play-scraper-1.2.7\n"
          ]
        }
      ],
      "source": [
        "pip install google-play-scraper"
      ]
    },
    {
      "cell_type": "code",
      "source": [
        "from google_play_scraper import reviews, Sort\n",
        "import pandas as pd\n",
        "\n",
        "# Daftar aplikasi (ID dari URL Google Play)\n",
        "apps = {\n",
        "    \"Duolingo\": \"com.duolingo\",\n",
        "    \"Busuu\": \"com.busuu.android.enc\",\n",
        "    \"HelloTalk\": \"com.hellotalk\"\n",
        "}\n",
        "\n",
        "# Jumlah ulasan yang ingin diambil per aplikasi\n",
        "N = 500\n",
        "\n",
        "all_reviews = []\n",
        "\n",
        "# Loop scraping untuk tiap aplikasi\n",
        "for name, app_id in apps.items():\n",
        "    result, _ = reviews(\n",
        "        app_id,\n",
        "        lang='id',           # ambil ulasan dalam bahasa Indonesia\n",
        "        country='id',        # region Indonesia\n",
        "        sort=Sort.NEWEST,    # bisa diganti ke Sort.MOST_RELEVANT\n",
        "        count=N              # jumlah ulasan\n",
        "    )\n",
        "\n",
        "    # Simpan hasilnya ke dalam list\n",
        "    for r in result:\n",
        "        all_reviews.append({\n",
        "            \"app_name\": name,\n",
        "            \"user_name\": r[\"userName\"],\n",
        "            \"rating\": r[\"score\"],\n",
        "            \"review\": r[\"content\"],\n",
        "            \"thumbs_up\": r[\"thumbsUpCount\"],\n",
        "            \"date\": r[\"at\"].strftime(\"%Y-%m-%d\")\n",
        "        })\n",
        "\n",
        "# Konversi ke DataFrame\n",
        "df = pd.DataFrame(all_reviews)\n",
        "\n",
        "# Simpan ke CSV\n",
        "# df.to_csv(\"ulasan_aplikasi_bahasa.csv\", index=False, encoding='utf-8')"
      ],
      "metadata": {
        "id": "UnqUZd5z2EM-"
      },
      "execution_count": 2,
      "outputs": []
    },
    {
      "cell_type": "markdown",
      "source": [
        "**Case Folding**"
      ],
      "metadata": {
        "id": "dcH6SN9Du7g-"
      }
    },
    {
      "cell_type": "code",
      "source": [
        "import pandas as pd\n",
        "# Load data hasil scraping\n",
        "# df = pd.read_csv(\"ulasan_aplikasi_bahasa.csv\")\n",
        "\n",
        "# Ubah semua huruf menjadi huruf kecil\n",
        "df['casefolded_review'] = df['review'].astype(str).str.lower()\n",
        "\n",
        "# 3. Simpan hasil\n",
        "df.to_csv(\"ulasan_aplikasi_bahasa_casefolded.csv\", index=False, encoding='utf-8')"
      ],
      "metadata": {
        "id": "7Hn3KC5Yu7Gh"
      },
      "execution_count": 3,
      "outputs": []
    }
  ]
}